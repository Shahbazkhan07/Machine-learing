{
 "cells": [
  {
   "cell_type": "markdown",
   "metadata": {},
   "source": [
    "[Solution_Blog_Reference](https://www.kaggle.com/asrsaiteja/game-data-analysis)<br>\n",
    "[Exact_Question_Reference](https://community.dataquest.io/t/i-want-a-hint-or-a-solution-for-a-problem-statement-as-to-how-to-approach-it/551295)"
   ]
  },
  {
   "cell_type": "code",
   "execution_count": 1,
   "metadata": {},
   "outputs": [],
   "source": [
    "# https://www.kaggle.com/asrsaiteja/game-data-analysis\n",
    "import numpy as np # linear algebra\n",
    "import pandas as pd # data processing, CSV file I/O (e.g. pd.read_csv)\n",
    "import matplotlib.cm as cm\n",
    "import matplotlib.pyplot as plt\n",
    "import seaborn as sns\n",
    "import scipy.stats as stats\n",
    "plt.style.use('ggplot')"
   ]
  },
  {
   "cell_type": "code",
   "execution_count": 2,
   "metadata": {},
   "outputs": [
    {
     "data": {
      "text/plain": [
       "((55826, 5),\n",
       " Index(['event_datetime', 'player_id', 'level_number', 'status', 'session_id'], dtype='object'))"
      ]
     },
     "execution_count": 2,
     "metadata": {},
     "output_type": "execute_result"
    }
   ],
   "source": [
    "file_path = 'level_progress.csv'\n",
    "\n",
    "df = pd.read_csv(file_path, parse_dates = ['event_datetime'])\n",
    "df.shape, df.columns"
   ]
  },
  {
   "cell_type": "code",
   "execution_count": 3,
   "metadata": {},
   "outputs": [
    {
     "data": {
      "text/html": [
       "<div>\n",
       "<style scoped>\n",
       "    .dataframe tbody tr th:only-of-type {\n",
       "        vertical-align: middle;\n",
       "    }\n",
       "\n",
       "    .dataframe tbody tr th {\n",
       "        vertical-align: top;\n",
       "    }\n",
       "\n",
       "    .dataframe thead th {\n",
       "        text-align: right;\n",
       "    }\n",
       "</style>\n",
       "<table border=\"1\" class=\"dataframe\">\n",
       "  <thead>\n",
       "    <tr style=\"text-align: right;\">\n",
       "      <th></th>\n",
       "      <th>event_datetime</th>\n",
       "      <th>player_id</th>\n",
       "      <th>level_number</th>\n",
       "      <th>status</th>\n",
       "      <th>session_id</th>\n",
       "    </tr>\n",
       "  </thead>\n",
       "  <tbody>\n",
       "    <tr>\n",
       "      <th>0</th>\n",
       "      <td>2020-11-28 21:00:24.958</td>\n",
       "      <td>00020eac3d7e4f058b87eac1a9a85c25</td>\n",
       "      <td>6</td>\n",
       "      <td>complete</td>\n",
       "      <td>6ddf006b807e451eb4706d6d98a049b6</td>\n",
       "    </tr>\n",
       "    <tr>\n",
       "      <th>1</th>\n",
       "      <td>2020-11-27 22:03:03.048</td>\n",
       "      <td>00020eac3d7e4f058b87eac1a9a85c25</td>\n",
       "      <td>2</td>\n",
       "      <td>start</td>\n",
       "      <td>3ba98db705f2aa0bc406441a61c23b3c</td>\n",
       "    </tr>\n",
       "    <tr>\n",
       "      <th>2</th>\n",
       "      <td>2020-11-26 14:53:09.344</td>\n",
       "      <td>002188c0bc476f356f4c3b74e5cc66c8</td>\n",
       "      <td>1</td>\n",
       "      <td>start</td>\n",
       "      <td>25cf292a8f1d3da01df8371276502edf</td>\n",
       "    </tr>\n",
       "    <tr>\n",
       "      <th>3</th>\n",
       "      <td>2020-12-03 11:43:26.582</td>\n",
       "      <td>00576ef3617e6bbbabfa0b1090e4122d</td>\n",
       "      <td>1</td>\n",
       "      <td>start</td>\n",
       "      <td>21fd6a7db53a9220574563ac8a8c8b58</td>\n",
       "    </tr>\n",
       "    <tr>\n",
       "      <th>4</th>\n",
       "      <td>2020-12-04 14:23:07.448</td>\n",
       "      <td>00576ef3617e6bbbabfa0b1090e4122d</td>\n",
       "      <td>7</td>\n",
       "      <td>start</td>\n",
       "      <td>358b9ab5c1c0f08bc7def310411eb90f</td>\n",
       "    </tr>\n",
       "  </tbody>\n",
       "</table>\n",
       "</div>"
      ],
      "text/plain": [
       "           event_datetime                         player_id  level_number  \\\n",
       "0 2020-11-28 21:00:24.958  00020eac3d7e4f058b87eac1a9a85c25             6   \n",
       "1 2020-11-27 22:03:03.048  00020eac3d7e4f058b87eac1a9a85c25             2   \n",
       "2 2020-11-26 14:53:09.344  002188c0bc476f356f4c3b74e5cc66c8             1   \n",
       "3 2020-12-03 11:43:26.582  00576ef3617e6bbbabfa0b1090e4122d             1   \n",
       "4 2020-12-04 14:23:07.448  00576ef3617e6bbbabfa0b1090e4122d             7   \n",
       "\n",
       "     status                        session_id  \n",
       "0  complete  6ddf006b807e451eb4706d6d98a049b6  \n",
       "1     start  3ba98db705f2aa0bc406441a61c23b3c  \n",
       "2     start  25cf292a8f1d3da01df8371276502edf  \n",
       "3     start  21fd6a7db53a9220574563ac8a8c8b58  \n",
       "4     start  358b9ab5c1c0f08bc7def310411eb90f  "
      ]
     },
     "execution_count": 3,
     "metadata": {},
     "output_type": "execute_result"
    }
   ],
   "source": [
    "df.head()"
   ]
  },
  {
   "cell_type": "code",
   "execution_count": 4,
   "metadata": {},
   "outputs": [
    {
     "data": {
      "text/plain": [
       "event_datetime    55826\n",
       "player_id          3872\n",
       "level_number         50\n",
       "status                3\n",
       "session_id        12759\n",
       "dtype: int64"
      ]
     },
     "execution_count": 4,
     "metadata": {},
     "output_type": "execute_result"
    }
   ],
   "source": [
    "df.apply(lambda x : len(x.unique()))"
   ]
  },
  {
   "cell_type": "code",
   "execution_count": 5,
   "metadata": {},
   "outputs": [
    {
     "name": "stdout",
     "output_type": "stream",
     "text": [
      "Average sessions by a player: 3.2951962809917354\n",
      "Average (different) levels in a session: 2.3004937691041616\n"
     ]
    }
   ],
   "source": [
    "avg_session_per_player = df.groupby('player_id')['session_id'].nunique().mean()\n",
    "avg_levels_per_session = df.groupby('session_id')['level_number'].nunique().mean()\n",
    "print('Average sessions by a player:', avg_session_per_player)\n",
    "print('Average (different) levels in a session:', avg_levels_per_session)"
   ]
  },
  {
   "cell_type": "markdown",
   "metadata": {},
   "source": [
    "Session: from the point a user open the game to exit's it.\n",
    "    \n",
    "So, in a single session, user can play multiple levels.\n",
    "\n",
    "From the given data, It seems like user can start any level he wants,\n",
    "bcz there are events of next level without completing the current level with in same session."
   ]
  },
  {
   "cell_type": "code",
   "execution_count": 6,
   "metadata": {},
   "outputs": [
    {
     "data": {
      "text/plain": [
       "<matplotlib.axes._subplots.AxesSubplot at 0x7f9d9d8451d0>"
      ]
     },
     "execution_count": 6,
     "metadata": {},
     "output_type": "execute_result"
    },
    {
     "data": {
      "image/png": "[encoded data removed]",
      "text/plain": [
       "<Figure size 432x288 with 1 Axes>"
      ]
     },
     "metadata": {},
     "output_type": "display_data"
    }
   ],
   "source": [
    "\n",
    "df['status'].value_counts().plot(kind = 'bar', color=plt.cm.Paired(np.arange(3)))"
   ]
  },
  {
   "cell_type": "markdown",
   "metadata": {},
   "source": [
    "It is clear that start events are more than sum of complete + fail events, <br>\n",
    "so there are cases where the level has started but resulted in neither success nor fail.<br> \n",
    "So user might have left the game ?<br>\n",
    "\n",
    "Start events only represents the start of the level,<br>\n",
    "not outcome so these are not need to be accounted to calculate the rate of success/failure.<br>\n",
    "\n",
    "If a user left(s) a game/level in middle, can he resume from where he left off ? I dont think so."
   ]
  },
  {
   "cell_type": "code",
   "execution_count": 7,
   "metadata": {},
   "outputs": [
    {
     "data": {
      "text/plain": [
       "status\n",
       "complete    AxesSubplot(0.125,0.125;0.775x0.755)\n",
       "fail        AxesSubplot(0.125,0.125;0.775x0.755)\n",
       "start       AxesSubplot(0.125,0.125;0.775x0.755)\n",
       "Name: player_id, dtype: object"
      ]
     },
     "execution_count": 7,
     "metadata": {},
     "output_type": "execute_result"
    },
    {
     "data": {
      "image/png": "[encoded data removed]",
      "text/plain": [
       "<Figure size 1008x504 with 1 Axes>"
      ]
     },
     "metadata": {},
     "output_type": "display_data"
    }
   ],
   "source": [
    "\n",
    "plt.figure(figsize = (14,7))\n",
    "grouped = df.groupby(['level_number', 'status'])['player_id'].count().reset_index()\n",
    "grouped.set_index('level_number', inplace = True)\n",
    "grouped.groupby('status')['player_id'].plot(legend = True)"
   ]
  },
  {
   "cell_type": "markdown",
   "metadata": {},
   "source": [
    "For a particular level, there can be following possibilities<br>\n",
    "- start, complete.<br>\n",
    "- start, fail.<br>\n",
    "- only start. (might left in midway)<br>\n",
    "\n",
    "Around level 3, 4, 5, 6 there is significant spikes in the number of starts & fails.<br>\n",
    "From there on, the numbers have reduced logarthmic fashion.<br>\n",
    "\n",
    "I guess one or more of the above levels are significantly difficult than user anticipated.\n",
    "\n",
    "## Filtering data\n",
    "### Why start events are not needed ?\n",
    "\n",
    "They are not needed for our objective to determine the levels those users are most likely to fail.<br>\n",
    "Start by itself wont represent complete event,\n",
    "it must either complete/fail events succeding it to record whether the attempt is success/failure."
   ]
  },
  {
   "cell_type": "code",
   "execution_count": 8,
   "metadata": {},
   "outputs": [
    {
     "data": {
      "text/plain": [
       "(24717, 5)"
      ]
     },
     "execution_count": 8,
     "metadata": {},
     "output_type": "execute_result"
    }
   ],
   "source": [
    "\n",
    "outcome_df = df.loc[df.status != 'start'].copy()\n",
    "outcome_df.shape\n",
    "\n"
   ]
  },
  {
   "cell_type": "code",
   "execution_count": 9,
   "metadata": {},
   "outputs": [
    {
     "name": "stdout",
     "output_type": "stream",
     "text": [
      "status        complete  fail\n",
      "level_number                \n",
      "0                 3736    37\n",
      "1                 3164    20\n",
      "2                 2671    91\n",
      "3                 1963   865\n",
      "4                 1640   475\n",
      "\n",
      "\n",
      "status        complete  fail\n",
      "level_number                \n",
      "44                   1     1\n",
      "45                   2     0\n",
      "46                   1     0\n",
      "47                   1     0\n",
      "48                   1     0\n"
     ]
    }
   ],
   "source": [
    "ct = pd.crosstab(outcome_df['level_number'], outcome_df['status'])\n",
    "print(ct.head())\n",
    "print('\\n')\n",
    "print(ct.tail())"
   ]
  },
  {
   "cell_type": "markdown",
   "metadata": {},
   "source": [
    "Not even single person completed level 49. (only started once)\n",
    "\n",
    "\n",
    "The frequencies/observations are very low & negligible for all levels > 30."
   ]
  },
  {
   "cell_type": "code",
   "execution_count": 10,
   "metadata": {},
   "outputs": [
    {
     "data": {
      "text/html": [
       "<div>\n",
       "<style scoped>\n",
       "    .dataframe tbody tr th:only-of-type {\n",
       "        vertical-align: middle;\n",
       "    }\n",
       "\n",
       "    .dataframe tbody tr th {\n",
       "        vertical-align: top;\n",
       "    }\n",
       "\n",
       "    .dataframe thead th {\n",
       "        text-align: right;\n",
       "    }\n",
       "</style>\n",
       "<table border=\"1\" class=\"dataframe\">\n",
       "  <thead>\n",
       "    <tr style=\"text-align: right;\">\n",
       "      <th>status</th>\n",
       "      <th>level_number</th>\n",
       "      <th>complete</th>\n",
       "      <th>fail</th>\n",
       "      <th>total_samples</th>\n",
       "    </tr>\n",
       "  </thead>\n",
       "  <tbody>\n",
       "    <tr>\n",
       "      <th>44</th>\n",
       "      <td>44</td>\n",
       "      <td>0.500000</td>\n",
       "      <td>0.500000</td>\n",
       "      <td>2</td>\n",
       "    </tr>\n",
       "    <tr>\n",
       "      <th>42</th>\n",
       "      <td>42</td>\n",
       "      <td>0.500000</td>\n",
       "      <td>0.500000</td>\n",
       "      <td>4</td>\n",
       "    </tr>\n",
       "    <tr>\n",
       "      <th>35</th>\n",
       "      <td>35</td>\n",
       "      <td>0.571429</td>\n",
       "      <td>0.428571</td>\n",
       "      <td>7</td>\n",
       "    </tr>\n",
       "    <tr>\n",
       "      <th>32</th>\n",
       "      <td>32</td>\n",
       "      <td>0.571429</td>\n",
       "      <td>0.428571</td>\n",
       "      <td>21</td>\n",
       "    </tr>\n",
       "    <tr>\n",
       "      <th>38</th>\n",
       "      <td>38</td>\n",
       "      <td>0.600000</td>\n",
       "      <td>0.400000</td>\n",
       "      <td>5</td>\n",
       "    </tr>\n",
       "  </tbody>\n",
       "</table>\n",
       "</div>"
      ],
      "text/plain": [
       "status  level_number  complete      fail  total_samples\n",
       "44                44  0.500000  0.500000              2\n",
       "42                42  0.500000  0.500000              4\n",
       "35                35  0.571429  0.428571              7\n",
       "32                32  0.571429  0.428571             21\n",
       "38                38  0.600000  0.400000              5"
      ]
     },
     "execution_count": 10,
     "metadata": {},
     "output_type": "execute_result"
    }
   ],
   "source": [
    "\n",
    "ct_norm = pd.crosstab(outcome_df['level_number'],outcome_df['status'],normalize = 'index').reset_index()\n",
    "ct_norm['total_samples'] = ct['complete'] + ct['fail']\n",
    "ct_norm.sort_values('complete').head()"
   ]
  },
  {
   "cell_type": "markdown",
   "metadata": {},
   "source": [
    "If we go by simple success/failure ratio, \n",
    "we can say level 44/42 are having high failure rates, but how significant & consistent ? <br>\n",
    "bcz they have very less samples (< 5). It was the case will all most all levels greather than 10.\n",
    "\n",
    "So we need to measure statistically & only take the comparisons \n",
    "that are satistically significant at certain level.\n",
    "(alpha = 0.05)\n",
    "\n",
    "### why does this statistical analysis even matter ?\n",
    "- As a game publisher,we need to have as more active users as possible which inturn to boost/maintain revenue.<br>\n",
    "- Some levels which are significantly having lesser success rate indicate that user are finding difficult to get past them & they eventually leave/uninstall the game. <br>\n",
    "- It could also mean that users are loosing interest in the game or could be due to affect of other factors.\n",
    "\n",
    "So It is important to identify a lower level which is significantly diffcult than higher levels, as higher ones come later in the game.\n",
    "\n",
    "### What to do ? If a level with significant low success ratio is identified ?\n",
    "- Offering some booster/extra lifes for the levels which are having significantly lower success rates will help.<br>\n",
    "- Reassessing the difficulty of level from user prespective & reordering them will also help.<br>\n",
    "- Any other steps neccessarily to motivate the user & retain them."
   ]
  },
  {
   "cell_type": "code",
   "execution_count": 13,
   "metadata": {},
   "outputs": [],
   "source": [
    "#Set the Significance level\n",
    "#alpha = 0.05\n",
    "\n",
    "def get_significance(p_val):\n",
    "    \"\"\"Receives the p-value and returns string.\"\"\"\n",
    "    if not pd.notnull(p_val):\n",
    "        p_text = 'ns' \n",
    "    elif p_val > 0.05:\n",
    "        p_text = \"ns\"  # above threshold => not significant\n",
    "    else:\n",
    "        p_text = 'significant'\n",
    "    \n",
    "    return p_text"
   ]
  },
  {
   "cell_type": "markdown",
   "metadata": {},
   "source": [
    "### ChiSquare test for proportions.\n",
    "To check if there is significant association between level_number & status (success/fail).\n",
    "- H0 (Null hypotheses) : The two categorical variables are independent (no association between the two variables) ( H0: Oi = Ei ).\n",
    "- H1 (Alternative hypotheses) = The two categorical variables are dependent (there is an association between the two variables) ( Ha: Oi ≠ Ei ).\n",
    "\n",
    "### Assumptions:\n",
    "- The two variables are categorical (nominal) and data is randomly sampled.\n",
    "- The levels of variables are mutually exclusive.\n",
    "- The expected frequency count for at least 80% of the cell in a contingency table is at least 5.\n",
    "- The expected frequency count should not be less than 1.\n",
    "- Observations should be independent of each other.\n",
    "- Observation data should be frequency counts and not percentages or transformed data."
   ]
  },
  {
   "cell_type": "code",
   "execution_count": 16,
   "metadata": {},
   "outputs": [],
   "source": [
    "levels_to_consider = ct_norm[ct_norm['total_samples'] > 5]['level_number'].tolist()"
   ]
  },
  {
   "cell_type": "code",
   "execution_count": 23,
   "metadata": {},
   "outputs": [],
   "source": [
    "ct_chi = ct[ct.index.isin(levels_to_consider)].copy()\n"
   ]
  },
  {
   "cell_type": "markdown",
   "metadata": {},
   "source": [
    "consider only the levels with atleast 10 samples. <br>\n",
    "As chisqaure wont handle samller samples & will result in errors"
   ]
  },
  {
   "cell_type": "code",
   "execution_count": 18,
   "metadata": {},
   "outputs": [
    {
     "name": "stdout",
     "output_type": "stream",
     "text": [
      "p-value for chi-sqaure test: 0.0\n"
     ]
    }
   ],
   "source": [
    "chi2, p, dof, exp = stats.chi2_contingency(ct, correction=False)\n",
    "print('p-value for chi-sqaure test:', p)"
   ]
  },
  {
   "cell_type": "markdown",
   "metadata": {},
   "source": [
    "- As p-values are less than (<) 0.05, safely reject the null hypothesis.<br>\n",
    "\n",
    "- There is significant dependence b/w the level_number & status. <br>\n",
    "Now we need to find which level_number(s) are contributing to this\n",
    "#### Chisquare test - Post Hoc Analysis (Pairwise tests)\n",
    "- Post-Hoc Analysis to identify the different level pairs with siginificant difference in ratio of success."
   ]
  },
  {
   "cell_type": "code",
   "execution_count": 24,
   "metadata": {},
   "outputs": [],
   "source": [
    "ct_chi['total_samples'] = ct_chi['complete'] + ct_chi['fail']"
   ]
  },
  {
   "cell_type": "code",
   "execution_count": 25,
   "metadata": {},
   "outputs": [
    {
     "data": {
      "text/plain": [
       "(630, 4)"
      ]
     },
     "execution_count": 25,
     "metadata": {},
     "output_type": "execute_result"
    }
   ],
   "source": [
    "from statsmodels.stats.proportion import proportions_chisquare_allpairs\n",
    "r = proportions_chisquare_allpairs(ct_chi['complete'], ct_chi['total_samples'], \n",
    "                                   multitest_method = 'simes-hochberg')\n",
    "\n",
    "g = [eval(t) for t in r.all_pairs_names]\n",
    "g1, g2 = zip(*g)\n",
    "rows = list(zip(g1, g2, r.pvals_raw, r.pval_corrected()))\n",
    "rdf = pd.DataFrame(rows, columns = ['level_1', 'level_2', 'raw_pvalue', 'correct_pvalue'])\n",
    "rdf.shape"
   ]
  },
  {
   "cell_type": "code",
   "execution_count": 26,
   "metadata": {},
   "outputs": [],
   "source": [
    "rdf['result'] = rdf['correct_pvalue'].apply(lambda x:get_significance(x))"
   ]
  },
  {
   "cell_type": "code",
   "execution_count": 27,
   "metadata": {},
   "outputs": [],
   "source": [
    "sd = dict(zip(ct_norm['level_number'], ct_norm['complete']))"
   ]
  },
  {
   "cell_type": "code",
   "execution_count": 28,
   "metadata": {},
   "outputs": [],
   "source": [
    "sig_df = rdf[rdf['result'] == 'significant'].copy()\n",
    "sig_df['level1_success_ratio'] = sig_df['level_1'].replace(sd)\n",
    "sig_df['level2_success_ratio'] = sig_df['level_2'].replace(sd)\n",
    "sig_df['diff'] = (sig_df['level1_success_ratio'] - sig_df['level2_success_ratio'])"
   ]
  },
  {
   "cell_type": "code",
   "execution_count": 29,
   "metadata": {},
   "outputs": [
    {
     "data": {
      "text/html": [
       "<div>\n",
       "<style scoped>\n",
       "    .dataframe tbody tr th:only-of-type {\n",
       "        vertical-align: middle;\n",
       "    }\n",
       "\n",
       "    .dataframe tbody tr th {\n",
       "        vertical-align: top;\n",
       "    }\n",
       "\n",
       "    .dataframe thead th {\n",
       "        text-align: right;\n",
       "    }\n",
       "</style>\n",
       "<table border=\"1\" class=\"dataframe\">\n",
       "  <thead>\n",
       "    <tr style=\"text-align: right;\">\n",
       "      <th></th>\n",
       "      <th>level_1</th>\n",
       "      <th>level_2</th>\n",
       "      <th>raw_pvalue</th>\n",
       "      <th>correct_pvalue</th>\n",
       "      <th>result</th>\n",
       "      <th>level1_success_ratio</th>\n",
       "      <th>level2_success_ratio</th>\n",
       "      <th>diff</th>\n",
       "    </tr>\n",
       "  </thead>\n",
       "  <tbody>\n",
       "    <tr>\n",
       "      <th>2</th>\n",
       "      <td>0</td>\n",
       "      <td>3</td>\n",
       "      <td>3.713181e-263</td>\n",
       "      <td>2.339304e-260</td>\n",
       "      <td>significant</td>\n",
       "      <td>0.990193</td>\n",
       "      <td>0.694130</td>\n",
       "      <td>0.296063</td>\n",
       "    </tr>\n",
       "    <tr>\n",
       "      <th>4</th>\n",
       "      <td>0</td>\n",
       "      <td>5</td>\n",
       "      <td>3.560892e-238</td>\n",
       "      <td>2.239801e-235</td>\n",
       "      <td>significant</td>\n",
       "      <td>0.990193</td>\n",
       "      <td>0.704620</td>\n",
       "      <td>0.285573</td>\n",
       "    </tr>\n",
       "    <tr>\n",
       "      <th>36</th>\n",
       "      <td>1</td>\n",
       "      <td>3</td>\n",
       "      <td>7.275200e-235</td>\n",
       "      <td>4.568826e-232</td>\n",
       "      <td>significant</td>\n",
       "      <td>0.993719</td>\n",
       "      <td>0.694130</td>\n",
       "      <td>0.299588</td>\n",
       "    </tr>\n",
       "    <tr>\n",
       "      <th>5</th>\n",
       "      <td>0</td>\n",
       "      <td>6</td>\n",
       "      <td>3.132988e-220</td>\n",
       "      <td>1.964383e-217</td>\n",
       "      <td>significant</td>\n",
       "      <td>0.990193</td>\n",
       "      <td>0.714693</td>\n",
       "      <td>0.275500</td>\n",
       "    </tr>\n",
       "    <tr>\n",
       "      <th>38</th>\n",
       "      <td>1</td>\n",
       "      <td>5</td>\n",
       "      <td>1.464937e-214</td>\n",
       "      <td>9.170505e-212</td>\n",
       "      <td>significant</td>\n",
       "      <td>0.993719</td>\n",
       "      <td>0.704620</td>\n",
       "      <td>0.289098</td>\n",
       "    </tr>\n",
       "    <tr>\n",
       "      <th>...</th>\n",
       "      <td>...</td>\n",
       "      <td>...</td>\n",
       "      <td>...</td>\n",
       "      <td>...</td>\n",
       "      <td>...</td>\n",
       "      <td>...</td>\n",
       "      <td>...</td>\n",
       "      <td>...</td>\n",
       "    </tr>\n",
       "    <tr>\n",
       "      <th>91</th>\n",
       "      <td>2</td>\n",
       "      <td>25</td>\n",
       "      <td>1.495461e-07</td>\n",
       "      <td>7.955851e-05</td>\n",
       "      <td>significant</td>\n",
       "      <td>0.967053</td>\n",
       "      <td>0.843750</td>\n",
       "      <td>0.123303</td>\n",
       "    </tr>\n",
       "    <tr>\n",
       "      <th>134</th>\n",
       "      <td>4</td>\n",
       "      <td>5</td>\n",
       "      <td>4.116511e-07</td>\n",
       "      <td>2.185867e-04</td>\n",
       "      <td>significant</td>\n",
       "      <td>0.775414</td>\n",
       "      <td>0.704620</td>\n",
       "      <td>0.070793</td>\n",
       "    </tr>\n",
       "    <tr>\n",
       "      <th>108</th>\n",
       "      <td>3</td>\n",
       "      <td>10</td>\n",
       "      <td>1.378216e-05</td>\n",
       "      <td>7.304542e-03</td>\n",
       "      <td>significant</td>\n",
       "      <td>0.694130</td>\n",
       "      <td>0.783646</td>\n",
       "      <td>-0.089516</td>\n",
       "    </tr>\n",
       "    <tr>\n",
       "      <th>107</th>\n",
       "      <td>3</td>\n",
       "      <td>9</td>\n",
       "      <td>3.150175e-05</td>\n",
       "      <td>1.666443e-02</td>\n",
       "      <td>significant</td>\n",
       "      <td>0.694130</td>\n",
       "      <td>0.774101</td>\n",
       "      <td>-0.079971</td>\n",
       "    </tr>\n",
       "    <tr>\n",
       "      <th>135</th>\n",
       "      <td>4</td>\n",
       "      <td>6</td>\n",
       "      <td>4.536526e-05</td>\n",
       "      <td>2.395286e-02</td>\n",
       "      <td>significant</td>\n",
       "      <td>0.775414</td>\n",
       "      <td>0.714693</td>\n",
       "      <td>0.060720</td>\n",
       "    </tr>\n",
       "  </tbody>\n",
       "</table>\n",
       "<p>103 rows × 8 columns</p>\n",
       "</div>"
      ],
      "text/plain": [
       "     level_1  level_2     raw_pvalue  correct_pvalue       result  \\\n",
       "2          0        3  3.713181e-263   2.339304e-260  significant   \n",
       "4          0        5  3.560892e-238   2.239801e-235  significant   \n",
       "36         1        3  7.275200e-235   4.568826e-232  significant   \n",
       "5          0        6  3.132988e-220   1.964383e-217  significant   \n",
       "38         1        5  1.464937e-214   9.170505e-212  significant   \n",
       "..       ...      ...            ...             ...          ...   \n",
       "91         2       25   1.495461e-07    7.955851e-05  significant   \n",
       "134        4        5   4.116511e-07    2.185867e-04  significant   \n",
       "108        3       10   1.378216e-05    7.304542e-03  significant   \n",
       "107        3        9   3.150175e-05    1.666443e-02  significant   \n",
       "135        4        6   4.536526e-05    2.395286e-02  significant   \n",
       "\n",
       "     level1_success_ratio  level2_success_ratio      diff  \n",
       "2                0.990193              0.694130  0.296063  \n",
       "4                0.990193              0.704620  0.285573  \n",
       "36               0.993719              0.694130  0.299588  \n",
       "5                0.990193              0.714693  0.275500  \n",
       "38               0.993719              0.704620  0.289098  \n",
       "..                    ...                   ...       ...  \n",
       "91               0.967053              0.843750  0.123303  \n",
       "134              0.775414              0.704620  0.070793  \n",
       "108              0.694130              0.783646 -0.089516  \n",
       "107              0.694130              0.774101 -0.079971  \n",
       "135              0.775414              0.714693  0.060720  \n",
       "\n",
       "[103 rows x 8 columns]"
      ]
     },
     "execution_count": 29,
     "metadata": {},
     "output_type": "execute_result"
    }
   ],
   "source": [
    "sig_df.sort_values('correct_pvalue')"
   ]
  },
  {
   "cell_type": "code",
   "execution_count": 30,
   "metadata": {},
   "outputs": [
    {
     "data": {
      "text/html": [
       "<div>\n",
       "<style scoped>\n",
       "    .dataframe tbody tr th:only-of-type {\n",
       "        vertical-align: middle;\n",
       "    }\n",
       "\n",
       "    .dataframe tbody tr th {\n",
       "        vertical-align: top;\n",
       "    }\n",
       "\n",
       "    .dataframe thead th {\n",
       "        text-align: right;\n",
       "    }\n",
       "</style>\n",
       "<table border=\"1\" class=\"dataframe\">\n",
       "  <thead>\n",
       "    <tr style=\"text-align: right;\">\n",
       "      <th></th>\n",
       "      <th>level_1</th>\n",
       "      <th>level_2</th>\n",
       "      <th>raw_pvalue</th>\n",
       "      <th>correct_pvalue</th>\n",
       "      <th>result</th>\n",
       "      <th>level1_success_ratio</th>\n",
       "      <th>level2_success_ratio</th>\n",
       "      <th>diff</th>\n",
       "    </tr>\n",
       "  </thead>\n",
       "  <tbody>\n",
       "    <tr>\n",
       "      <th>102</th>\n",
       "      <td>3</td>\n",
       "      <td>4</td>\n",
       "      <td>2.007675e-10</td>\n",
       "      <td>1.078121e-07</td>\n",
       "      <td>significant</td>\n",
       "      <td>0.69413</td>\n",
       "      <td>0.775414</td>\n",
       "      <td>-0.081284</td>\n",
       "    </tr>\n",
       "    <tr>\n",
       "      <th>107</th>\n",
       "      <td>3</td>\n",
       "      <td>9</td>\n",
       "      <td>3.150175e-05</td>\n",
       "      <td>1.666443e-02</td>\n",
       "      <td>significant</td>\n",
       "      <td>0.69413</td>\n",
       "      <td>0.774101</td>\n",
       "      <td>-0.079971</td>\n",
       "    </tr>\n",
       "    <tr>\n",
       "      <th>108</th>\n",
       "      <td>3</td>\n",
       "      <td>10</td>\n",
       "      <td>1.378216e-05</td>\n",
       "      <td>7.304542e-03</td>\n",
       "      <td>significant</td>\n",
       "      <td>0.69413</td>\n",
       "      <td>0.783646</td>\n",
       "      <td>-0.089516</td>\n",
       "    </tr>\n",
       "  </tbody>\n",
       "</table>\n",
       "</div>"
      ],
      "text/plain": [
       "     level_1  level_2    raw_pvalue  correct_pvalue       result  \\\n",
       "102        3        4  2.007675e-10    1.078121e-07  significant   \n",
       "107        3        9  3.150175e-05    1.666443e-02  significant   \n",
       "108        3       10  1.378216e-05    7.304542e-03  significant   \n",
       "\n",
       "     level1_success_ratio  level2_success_ratio      diff  \n",
       "102               0.69413              0.775414 -0.081284  \n",
       "107               0.69413              0.774101 -0.079971  \n",
       "108               0.69413              0.783646 -0.089516  "
      ]
     },
     "execution_count": 30,
     "metadata": {},
     "output_type": "execute_result"
    }
   ],
   "source": [
    "sig_df[sig_df['diff'] < 0]"
   ]
  },
  {
   "cell_type": "markdown",
   "metadata": {},
   "source": [
    "### Chisquare Test: What are the levels, users most likely to fail ?\n",
    "- After sorting the results by p_value, the pair (0,3) is the most significant one rejecting the null hypothesis with highest probability.<br>\n",
    "So we can users are more likely to fail at level 3 than level 0.\n",
    "\n",
    "- Also, If we look at pairs with negative effect (diff): we can say success ratio of level 3 is significantly less than level 4, 9 & 10.<br>\n",
    "The pattern here is not expected or normal,indicating that players are more likely to fail at level 3.<br>\n",
    "\n",
    "### Fischer's Excat Test\n",
    "#### why ?\n",
    "- It relaxes the some assumptions made by the chisquare test & also is works better with lower sample sizes as this a excat test."
   ]
  },
  {
   "cell_type": "code",
   "execution_count": 31,
   "metadata": {},
   "outputs": [
    {
     "data": {
      "text/plain": [
       "(1176, 1176)"
      ]
     },
     "execution_count": 31,
     "metadata": {},
     "output_type": "execute_result"
    }
   ],
   "source": [
    "from itertools import combinations\n",
    "import scipy.stats as stats\n",
    "\n",
    "\n",
    "all_combinations = list(combinations(ct.index, 2))\n",
    "\n",
    "pairs = []\n",
    "p_vals = []\n",
    "odds_ratios = []\n",
    "for comb in all_combinations:\n",
    "    # subset df into a dataframe containing only the pair \"comb\"\n",
    "    sdf = ct[(ct.index == comb[0]) | (ct.index == comb[1])]\n",
    "    oddsratio, pvalue = stats.fisher_exact(sdf)\n",
    "    pairs.append((comb[0], comb[1]))\n",
    "    p_vals.append(pvalue)\n",
    "    odds_ratios.append(oddsratio)\n",
    "    \n",
    "len(pairs), len(p_vals)\n"
   ]
  },
  {
   "cell_type": "code",
   "execution_count": 32,
   "metadata": {},
   "outputs": [],
   "source": [
    "from statsmodels.sandbox.stats.multicomp import multipletests #fdr_bh\n",
    "reject_list, corrected_p_vals = multipletests(p_vals, method='simes-hochberg')[:2]"
   ]
  },
  {
   "cell_type": "code",
   "execution_count": 33,
   "metadata": {},
   "outputs": [
    {
     "data": {
      "text/plain": [
       "(1176, 5)"
      ]
     },
     "execution_count": 33,
     "metadata": {},
     "output_type": "execute_result"
    }
   ],
   "source": [
    "g1, g2 = zip(*pairs)\n",
    "rows = list(zip(g1, g2, p_vals, corrected_p_vals))\n",
    "rdf = pd.DataFrame(rows, columns = ['level_1', 'level_2', 'raw_pvalue', 'correct_pvalue'])\n",
    "rdf['odds_ratio'] = odds_ratios\n",
    "rdf.shape"
   ]
  },
  {
   "cell_type": "code",
   "execution_count": 34,
   "metadata": {},
   "outputs": [],
   "source": [
    "rdf['result'] = rdf['correct_pvalue'].apply(lambda x:get_significance(x))"
   ]
  },
  {
   "cell_type": "code",
   "execution_count": 35,
   "metadata": {},
   "outputs": [],
   "source": [
    "sig_df = rdf[rdf['result'] == 'significant'].copy()\n",
    "sig_df['level1_success_rate'] = sig_df['level_1'].replace(sd)\n",
    "sig_df['level2_success_rate'] = sig_df['level_2'].replace(sd)\n",
    "sig_df['diff'] = (sig_df['level1_success_rate'] - sig_df['level2_success_rate'])"
   ]
  },
  {
   "cell_type": "code",
   "execution_count": 36,
   "metadata": {},
   "outputs": [
    {
     "data": {
      "text/html": [
       "<div>\n",
       "<style scoped>\n",
       "    .dataframe tbody tr th:only-of-type {\n",
       "        vertical-align: middle;\n",
       "    }\n",
       "\n",
       "    .dataframe tbody tr th {\n",
       "        vertical-align: top;\n",
       "    }\n",
       "\n",
       "    .dataframe thead th {\n",
       "        text-align: right;\n",
       "    }\n",
       "</style>\n",
       "<table border=\"1\" class=\"dataframe\">\n",
       "  <thead>\n",
       "    <tr style=\"text-align: right;\">\n",
       "      <th></th>\n",
       "      <th>level_1</th>\n",
       "      <th>level_2</th>\n",
       "      <th>raw_pvalue</th>\n",
       "      <th>correct_pvalue</th>\n",
       "      <th>odds_ratio</th>\n",
       "      <th>result</th>\n",
       "      <th>level1_success_rate</th>\n",
       "      <th>level2_success_rate</th>\n",
       "      <th>diff</th>\n",
       "    </tr>\n",
       "  </thead>\n",
       "  <tbody>\n",
       "    <tr>\n",
       "      <th>2</th>\n",
       "      <td>0</td>\n",
       "      <td>3</td>\n",
       "      <td>1.257053e-298</td>\n",
       "      <td>1.478295e-295</td>\n",
       "      <td>44.493949</td>\n",
       "      <td>significant</td>\n",
       "      <td>0.990193</td>\n",
       "      <td>0.694130</td>\n",
       "      <td>0.296063</td>\n",
       "    </tr>\n",
       "    <tr>\n",
       "      <th>49</th>\n",
       "      <td>1</td>\n",
       "      <td>3</td>\n",
       "      <td>1.041188e-283</td>\n",
       "      <td>1.223395e-280</td>\n",
       "      <td>69.711156</td>\n",
       "      <td>significant</td>\n",
       "      <td>0.993719</td>\n",
       "      <td>0.694130</td>\n",
       "      <td>0.299588</td>\n",
       "    </tr>\n",
       "    <tr>\n",
       "      <th>4</th>\n",
       "      <td>0</td>\n",
       "      <td>5</td>\n",
       "      <td>8.014031e-236</td>\n",
       "      <td>9.408472e-233</td>\n",
       "      <td>42.328249</td>\n",
       "      <td>significant</td>\n",
       "      <td>0.990193</td>\n",
       "      <td>0.704620</td>\n",
       "      <td>0.285573</td>\n",
       "    </tr>\n",
       "    <tr>\n",
       "      <th>51</th>\n",
       "      <td>1</td>\n",
       "      <td>5</td>\n",
       "      <td>1.004442e-228</td>\n",
       "      <td>1.178210e-225</td>\n",
       "      <td>66.318033</td>\n",
       "      <td>significant</td>\n",
       "      <td>0.993719</td>\n",
       "      <td>0.704620</td>\n",
       "      <td>0.289098</td>\n",
       "    </tr>\n",
       "    <tr>\n",
       "      <th>5</th>\n",
       "      <td>0</td>\n",
       "      <td>6</td>\n",
       "      <td>4.232111e-198</td>\n",
       "      <td>4.960035e-195</td>\n",
       "      <td>40.308572</td>\n",
       "      <td>significant</td>\n",
       "      <td>0.990193</td>\n",
       "      <td>0.714693</td>\n",
       "      <td>0.275500</td>\n",
       "    </tr>\n",
       "    <tr>\n",
       "      <th>52</th>\n",
       "      <td>1</td>\n",
       "      <td>6</td>\n",
       "      <td>8.766101e-195</td>\n",
       "      <td>1.026510e-191</td>\n",
       "      <td>63.153693</td>\n",
       "      <td>significant</td>\n",
       "      <td>0.993719</td>\n",
       "      <td>0.714693</td>\n",
       "      <td>0.279025</td>\n",
       "    </tr>\n",
       "    <tr>\n",
       "      <th>95</th>\n",
       "      <td>2</td>\n",
       "      <td>3</td>\n",
       "      <td>1.325835e-182</td>\n",
       "      <td>1.551227e-179</td>\n",
       "      <td>12.933864</td>\n",
       "      <td>significant</td>\n",
       "      <td>0.967053</td>\n",
       "      <td>0.694130</td>\n",
       "      <td>0.272923</td>\n",
       "    </tr>\n",
       "    <tr>\n",
       "      <th>3</th>\n",
       "      <td>0</td>\n",
       "      <td>4</td>\n",
       "      <td>9.363306e-178</td>\n",
       "      <td>1.094571e-174</td>\n",
       "      <td>29.245221</td>\n",
       "      <td>significant</td>\n",
       "      <td>0.990193</td>\n",
       "      <td>0.775414</td>\n",
       "      <td>0.214780</td>\n",
       "    </tr>\n",
       "    <tr>\n",
       "      <th>50</th>\n",
       "      <td>1</td>\n",
       "      <td>4</td>\n",
       "      <td>5.065975e-174</td>\n",
       "      <td>5.917059e-171</td>\n",
       "      <td>45.820122</td>\n",
       "      <td>significant</td>\n",
       "      <td>0.993719</td>\n",
       "      <td>0.775414</td>\n",
       "      <td>0.218305</td>\n",
       "    </tr>\n",
       "    <tr>\n",
       "      <th>54</th>\n",
       "      <td>1</td>\n",
       "      <td>8</td>\n",
       "      <td>1.750812e-154</td>\n",
       "      <td>2.043198e-151</td>\n",
       "      <td>63.329670</td>\n",
       "      <td>significant</td>\n",
       "      <td>0.993719</td>\n",
       "      <td>0.714126</td>\n",
       "      <td>0.279593</td>\n",
       "    </tr>\n",
       "  </tbody>\n",
       "</table>\n",
       "</div>"
      ],
      "text/plain": [
       "    level_1  level_2     raw_pvalue  correct_pvalue  odds_ratio       result  \\\n",
       "2         0        3  1.257053e-298   1.478295e-295   44.493949  significant   \n",
       "49        1        3  1.041188e-283   1.223395e-280   69.711156  significant   \n",
       "4         0        5  8.014031e-236   9.408472e-233   42.328249  significant   \n",
       "51        1        5  1.004442e-228   1.178210e-225   66.318033  significant   \n",
       "5         0        6  4.232111e-198   4.960035e-195   40.308572  significant   \n",
       "52        1        6  8.766101e-195   1.026510e-191   63.153693  significant   \n",
       "95        2        3  1.325835e-182   1.551227e-179   12.933864  significant   \n",
       "3         0        4  9.363306e-178   1.094571e-174   29.245221  significant   \n",
       "50        1        4  5.065975e-174   5.917059e-171   45.820122  significant   \n",
       "54        1        8  1.750812e-154   2.043198e-151   63.329670  significant   \n",
       "\n",
       "    level1_success_rate  level2_success_rate      diff  \n",
       "2              0.990193             0.694130  0.296063  \n",
       "49             0.993719             0.694130  0.299588  \n",
       "4              0.990193             0.704620  0.285573  \n",
       "51             0.993719             0.704620  0.289098  \n",
       "5              0.990193             0.714693  0.275500  \n",
       "52             0.993719             0.714693  0.279025  \n",
       "95             0.967053             0.694130  0.272923  \n",
       "3              0.990193             0.775414  0.214780  \n",
       "50             0.993719             0.775414  0.218305  \n",
       "54             0.993719             0.714126  0.279593  "
      ]
     },
     "execution_count": 36,
     "metadata": {},
     "output_type": "execute_result"
    }
   ],
   "source": [
    "sig_df.sort_values('correct_pvalue').head(10)"
   ]
  },
  {
   "cell_type": "code",
   "execution_count": 37,
   "metadata": {},
   "outputs": [
    {
     "data": {
      "text/html": [
       "<div>\n",
       "<style scoped>\n",
       "    .dataframe tbody tr th:only-of-type {\n",
       "        vertical-align: middle;\n",
       "    }\n",
       "\n",
       "    .dataframe tbody tr th {\n",
       "        vertical-align: top;\n",
       "    }\n",
       "\n",
       "    .dataframe thead th {\n",
       "        text-align: right;\n",
       "    }\n",
       "</style>\n",
       "<table border=\"1\" class=\"dataframe\">\n",
       "  <thead>\n",
       "    <tr style=\"text-align: right;\">\n",
       "      <th></th>\n",
       "      <th>level_1</th>\n",
       "      <th>level_2</th>\n",
       "      <th>raw_pvalue</th>\n",
       "      <th>correct_pvalue</th>\n",
       "      <th>odds_ratio</th>\n",
       "      <th>result</th>\n",
       "      <th>level1_success_rate</th>\n",
       "      <th>level2_success_rate</th>\n",
       "      <th>diff</th>\n",
       "    </tr>\n",
       "  </thead>\n",
       "  <tbody>\n",
       "    <tr>\n",
       "      <th>141</th>\n",
       "      <td>3</td>\n",
       "      <td>4</td>\n",
       "      <td>1.786759e-10</td>\n",
       "      <td>1.969009e-07</td>\n",
       "      <td>0.657285</td>\n",
       "      <td>significant</td>\n",
       "      <td>0.69413</td>\n",
       "      <td>0.775414</td>\n",
       "      <td>-0.081284</td>\n",
       "    </tr>\n",
       "    <tr>\n",
       "      <th>146</th>\n",
       "      <td>3</td>\n",
       "      <td>9</td>\n",
       "      <td>2.613853e-05</td>\n",
       "      <td>2.825575e-02</td>\n",
       "      <td>0.662249</td>\n",
       "      <td>significant</td>\n",
       "      <td>0.69413</td>\n",
       "      <td>0.774101</td>\n",
       "      <td>-0.079971</td>\n",
       "    </tr>\n",
       "    <tr>\n",
       "      <th>147</th>\n",
       "      <td>3</td>\n",
       "      <td>10</td>\n",
       "      <td>1.054741e-05</td>\n",
       "      <td>1.143339e-02</td>\n",
       "      <td>0.626542</td>\n",
       "      <td>significant</td>\n",
       "      <td>0.69413</td>\n",
       "      <td>0.783646</td>\n",
       "      <td>-0.089516</td>\n",
       "    </tr>\n",
       "  </tbody>\n",
       "</table>\n",
       "</div>"
      ],
      "text/plain": [
       "     level_1  level_2    raw_pvalue  correct_pvalue  odds_ratio       result  \\\n",
       "141        3        4  1.786759e-10    1.969009e-07    0.657285  significant   \n",
       "146        3        9  2.613853e-05    2.825575e-02    0.662249  significant   \n",
       "147        3       10  1.054741e-05    1.143339e-02    0.626542  significant   \n",
       "\n",
       "     level1_success_rate  level2_success_rate      diff  \n",
       "141              0.69413             0.775414 -0.081284  \n",
       "146              0.69413             0.774101 -0.079971  \n",
       "147              0.69413             0.783646 -0.089516  "
      ]
     },
     "execution_count": 37,
     "metadata": {},
     "output_type": "execute_result"
    }
   ],
   "source": [
    "sig_df[sig_df['diff'] < 0]"
   ]
  },
  {
   "cell_type": "markdown",
   "metadata": {},
   "source": [
    "### Fisher Excat Test: What are the levels, users most likely to fail ?¶\n",
    "- The results are inline with the observations from the chisquare test"
   ]
  },
  {
   "cell_type": "code",
   "execution_count": null,
   "metadata": {},
   "outputs": [],
   "source": []
  }
 ],
 "metadata": {
  "kernelspec": {
   "display_name": "Python 3",
   "language": "python",
   "name": "python3"
  },
  "language_info": {
   "codemirror_mode": {
    "name": "ipython",
    "version": 3
   },
   "file_extension": ".py",
   "mimetype": "text/x-python",
   "name": "python",
   "nbconvert_exporter": "python",
   "pygments_lexer": "ipython3",
   "version": "3.8.3"
  },
  "toc": {
   "base_numbering": 1,
   "nav_menu": {},
   "number_sections": true,
   "sideBar": true,
   "skip_h1_title": false,
   "title_cell": "Table of Contents",
   "title_sidebar": "Contents",
   "toc_cell": false,
   "toc_position": {},
   "toc_section_display": true,
   "toc_window_display": false
  }
 },
 "nbformat": 4,
 "nbformat_minor": 4
}
